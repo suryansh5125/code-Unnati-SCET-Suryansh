{
 "cells": [
  {
   "cell_type": "markdown",
   "id": "11b9660b",
   "metadata": {},
   "source": [
    "# Basic Math Operations"
   ]
  },
  {
   "cell_type": "code",
   "execution_count": 1,
   "id": "16368864",
   "metadata": {},
   "outputs": [
    {
     "data": {
      "text/plain": [
       "14"
      ]
     },
     "execution_count": 1,
     "metadata": {},
     "output_type": "execute_result"
    }
   ],
   "source": [
    "5+9"
   ]
  },
  {
   "cell_type": "code",
   "execution_count": 2,
   "id": "ed11bc4f",
   "metadata": {},
   "outputs": [
    {
     "data": {
      "text/plain": [
       "-1"
      ]
     },
     "execution_count": 2,
     "metadata": {},
     "output_type": "execute_result"
    }
   ],
   "source": [
    "8-9"
   ]
  },
  {
   "cell_type": "code",
   "execution_count": 3,
   "id": "17ce11e1",
   "metadata": {},
   "outputs": [
    {
     "data": {
      "text/plain": [
       "56"
      ]
     },
     "execution_count": 3,
     "metadata": {},
     "output_type": "execute_result"
    }
   ],
   "source": [
    "8*7"
   ]
  },
  {
   "cell_type": "code",
   "execution_count": 4,
   "id": "f0952976",
   "metadata": {},
   "outputs": [
    {
     "data": {
      "text/plain": [
       "4"
      ]
     },
     "execution_count": 4,
     "metadata": {},
     "output_type": "execute_result"
    }
   ],
   "source": [
    "2**2"
   ]
  },
  {
   "cell_type": "code",
   "execution_count": 6,
   "id": "efdaa37c",
   "metadata": {},
   "outputs": [
    {
     "data": {
      "text/plain": [
       "1.5"
      ]
     },
     "execution_count": 6,
     "metadata": {},
     "output_type": "execute_result"
    }
   ],
   "source": [
    "6/4"
   ]
  },
  {
   "cell_type": "code",
   "execution_count": 7,
   "id": "b79145d3",
   "metadata": {},
   "outputs": [
    {
     "data": {
      "text/plain": [
       "-5.0"
      ]
     },
     "execution_count": 7,
     "metadata": {},
     "output_type": "execute_result"
    }
   ],
   "source": [
    "3/3+4-7-2*12+21"
   ]
  },
  {
   "cell_type": "code",
   "execution_count": 8,
   "id": "a8666729",
   "metadata": {},
   "outputs": [
    {
     "data": {
      "text/plain": [
       "-14.0"
      ]
     },
     "execution_count": 8,
     "metadata": {},
     "output_type": "execute_result"
    }
   ],
   "source": [
    "(3/3)+(4-7)-(2*12)+12"
   ]
  },
  {
   "cell_type": "code",
   "execution_count": 9,
   "id": "bebf2ce7",
   "metadata": {},
   "outputs": [
    {
     "name": "stdout",
     "output_type": "stream",
     "text": [
      "Hello SURYANSH\n"
     ]
    }
   ],
   "source": [
    "#my first py program\n",
    "print(\"Hello SURYANSH\")"
   ]
  },
  {
   "cell_type": "markdown",
   "id": "55d920f4",
   "metadata": {},
   "source": [
    "# VARIABLES"
   ]
  },
  {
   "cell_type": "code",
   "execution_count": 25,
   "id": "7eec1f4f",
   "metadata": {},
   "outputs": [],
   "source": [
    "a=67\n",
    "b=23.8969"
   ]
  },
  {
   "cell_type": "code",
   "execution_count": 11,
   "id": "12243069",
   "metadata": {},
   "outputs": [
    {
     "data": {
      "text/plain": [
       "67"
      ]
     },
     "execution_count": 11,
     "metadata": {},
     "output_type": "execute_result"
    }
   ],
   "source": [
    "a"
   ]
  },
  {
   "cell_type": "code",
   "execution_count": 12,
   "id": "932bae71",
   "metadata": {},
   "outputs": [
    {
     "name": "stdout",
     "output_type": "stream",
     "text": [
      "23.8969\n"
     ]
    }
   ],
   "source": [
    "print(b)"
   ]
  },
  {
   "cell_type": "code",
   "execution_count": 13,
   "id": "b09d227f",
   "metadata": {},
   "outputs": [
    {
     "data": {
      "text/plain": [
       "int"
      ]
     },
     "execution_count": 13,
     "metadata": {},
     "output_type": "execute_result"
    }
   ],
   "source": [
    "type(a)"
   ]
  },
  {
   "cell_type": "code",
   "execution_count": 14,
   "id": "a74800b6",
   "metadata": {},
   "outputs": [
    {
     "data": {
      "text/plain": [
       "float"
      ]
     },
     "execution_count": 14,
     "metadata": {},
     "output_type": "execute_result"
    }
   ],
   "source": [
    "type(b)"
   ]
  },
  {
   "cell_type": "code",
   "execution_count": 16,
   "id": "3866ae7f",
   "metadata": {},
   "outputs": [],
   "source": [
    "b=23.896996"
   ]
  },
  {
   "cell_type": "code",
   "execution_count": 17,
   "id": "9cfdd554",
   "metadata": {},
   "outputs": [
    {
     "data": {
      "text/plain": [
       "float"
      ]
     },
     "execution_count": 17,
     "metadata": {},
     "output_type": "execute_result"
    }
   ],
   "source": [
    "type(b)"
   ]
  },
  {
   "cell_type": "code",
   "execution_count": 18,
   "id": "51d2c638",
   "metadata": {},
   "outputs": [],
   "source": [
    "c=\"SAURABH\""
   ]
  },
  {
   "cell_type": "code",
   "execution_count": 19,
   "id": "2f8a7ab2",
   "metadata": {},
   "outputs": [
    {
     "data": {
      "text/plain": [
       "'SAURABH'"
      ]
     },
     "execution_count": 19,
     "metadata": {},
     "output_type": "execute_result"
    }
   ],
   "source": [
    "c"
   ]
  },
  {
   "cell_type": "code",
   "execution_count": 20,
   "id": "e1902762",
   "metadata": {},
   "outputs": [
    {
     "data": {
      "text/plain": [
       "str"
      ]
     },
     "execution_count": 20,
     "metadata": {},
     "output_type": "execute_result"
    }
   ],
   "source": [
    "type(c)"
   ]
  },
  {
   "cell_type": "code",
   "execution_count": 21,
   "id": "58c9b7f5",
   "metadata": {},
   "outputs": [],
   "source": [
    "d=True"
   ]
  },
  {
   "cell_type": "code",
   "execution_count": 22,
   "id": "5dd6e3d7",
   "metadata": {},
   "outputs": [
    {
     "data": {
      "text/plain": [
       "bool"
      ]
     },
     "execution_count": 22,
     "metadata": {},
     "output_type": "execute_result"
    }
   ],
   "source": [
    "type(d)"
   ]
  },
  {
   "cell_type": "code",
   "execution_count": 23,
   "id": "2c21f4f0",
   "metadata": {},
   "outputs": [
    {
     "data": {
      "text/plain": [
       "True"
      ]
     },
     "execution_count": 23,
     "metadata": {},
     "output_type": "execute_result"
    }
   ],
   "source": [
    "d"
   ]
  },
  {
   "cell_type": "markdown",
   "id": "7977200f",
   "metadata": {},
   "source": [
    "# Math Operations on Variables"
   ]
  },
  {
   "cell_type": "code",
   "execution_count": 27,
   "id": "4ca5da8c",
   "metadata": {},
   "outputs": [],
   "source": [
    "m=45\n",
    "n=87\n",
    "x=51\n",
    "y=94"
   ]
  },
  {
   "cell_type": "code",
   "execution_count": 28,
   "id": "0cb35792",
   "metadata": {},
   "outputs": [
    {
     "data": {
      "text/plain": [
       "132"
      ]
     },
     "execution_count": 28,
     "metadata": {},
     "output_type": "execute_result"
    }
   ],
   "source": [
    "m+n"
   ]
  },
  {
   "cell_type": "code",
   "execution_count": 29,
   "id": "03143666",
   "metadata": {},
   "outputs": [
    {
     "data": {
      "text/plain": [
       "-43"
      ]
     },
     "execution_count": 29,
     "metadata": {},
     "output_type": "execute_result"
    }
   ],
   "source": [
    "x-y"
   ]
  },
  {
   "cell_type": "code",
   "execution_count": 30,
   "id": "1764553d",
   "metadata": {},
   "outputs": [
    {
     "data": {
      "text/plain": [
       "43"
      ]
     },
     "execution_count": 30,
     "metadata": {},
     "output_type": "execute_result"
    }
   ],
   "source": [
    "y-x"
   ]
  },
  {
   "cell_type": "code",
   "execution_count": 31,
   "id": "9b5cbf35",
   "metadata": {},
   "outputs": [
    {
     "data": {
      "text/plain": [
       "2295"
      ]
     },
     "execution_count": 31,
     "metadata": {},
     "output_type": "execute_result"
    }
   ],
   "source": [
    "m*x"
   ]
  },
  {
   "cell_type": "code",
   "execution_count": 32,
   "id": "e581c4f2",
   "metadata": {},
   "outputs": [
    {
     "data": {
      "text/plain": [
       "0.5172413793103449"
      ]
     },
     "execution_count": 32,
     "metadata": {},
     "output_type": "execute_result"
    }
   ],
   "source": [
    "m/n"
   ]
  },
  {
   "cell_type": "code",
   "execution_count": 33,
   "id": "61788211",
   "metadata": {},
   "outputs": [
    {
     "data": {
      "text/plain": [
       "0.8823529411764706"
      ]
     },
     "execution_count": 33,
     "metadata": {},
     "output_type": "execute_result"
    }
   ],
   "source": [
    "m/x"
   ]
  },
  {
   "cell_type": "code",
   "execution_count": 34,
   "id": "713dddcc",
   "metadata": {},
   "outputs": [
    {
     "data": {
      "text/plain": [
       "45"
      ]
     },
     "execution_count": 34,
     "metadata": {},
     "output_type": "execute_result"
    }
   ],
   "source": [
    "m%y"
   ]
  },
  {
   "cell_type": "markdown",
   "id": "a774ef44",
   "metadata": {},
   "source": [
    "# Use Input keyword to take input from User"
   ]
  },
  {
   "cell_type": "code",
   "execution_count": 36,
   "id": "a08eec31",
   "metadata": {},
   "outputs": [
    {
     "name": "stdout",
     "output_type": "stream",
     "text": [
      "Enter the value of p: 20\n",
      "Enter the value of q: 10\n"
     ]
    }
   ],
   "source": [
    "p=int(input(\"Enter the value of p: \"))\n",
    "q=int(input(\"Enter the value of q: \"))"
   ]
  },
  {
   "cell_type": "code",
   "execution_count": 37,
   "id": "b4522a8c",
   "metadata": {},
   "outputs": [
    {
     "name": "stdout",
     "output_type": "stream",
     "text": [
      "10240000000000\n"
     ]
    }
   ],
   "source": [
    "r=p**q\n",
    "print(r)"
   ]
  },
  {
   "cell_type": "markdown",
   "id": "5968ea43",
   "metadata": {},
   "source": [
    "# String Concatenation"
   ]
  },
  {
   "cell_type": "code",
   "execution_count": 44,
   "id": "6ed2a53d",
   "metadata": {},
   "outputs": [],
   "source": [
    "str1=\"SURYANSH \""
   ]
  },
  {
   "cell_type": "code",
   "execution_count": 45,
   "id": "3eaecb59",
   "metadata": {},
   "outputs": [],
   "source": [
    "str2=\"SWARNKAR\""
   ]
  },
  {
   "cell_type": "code",
   "execution_count": 46,
   "id": "0d135c95",
   "metadata": {},
   "outputs": [
    {
     "data": {
      "text/plain": [
       "'SWARNKAR'"
      ]
     },
     "execution_count": 46,
     "metadata": {},
     "output_type": "execute_result"
    }
   ],
   "source": [
    "str1\n",
    "str2"
   ]
  },
  {
   "cell_type": "code",
   "execution_count": 47,
   "id": "60acc650",
   "metadata": {},
   "outputs": [],
   "source": [
    "str3=str1+str2"
   ]
  },
  {
   "cell_type": "code",
   "execution_count": 48,
   "id": "ec4d1970",
   "metadata": {},
   "outputs": [
    {
     "data": {
      "text/plain": [
       "'SURYANSH SWARNKAR'"
      ]
     },
     "execution_count": 48,
     "metadata": {},
     "output_type": "execute_result"
    }
   ],
   "source": [
    "str3"
   ]
  },
  {
   "cell_type": "code",
   "execution_count": 49,
   "id": "24a76bb4",
   "metadata": {},
   "outputs": [
    {
     "data": {
      "text/plain": [
       "'Y'"
      ]
     },
     "execution_count": 49,
     "metadata": {},
     "output_type": "execute_result"
    }
   ],
   "source": [
    "str3[3]"
   ]
  },
  {
   "cell_type": "code",
   "execution_count": 51,
   "id": "b549fd5f",
   "metadata": {},
   "outputs": [
    {
     "data": {
      "text/plain": [
       "'SURYA'"
      ]
     },
     "execution_count": 51,
     "metadata": {},
     "output_type": "execute_result"
    }
   ],
   "source": [
    "str3[0:5]"
   ]
  },
  {
   "cell_type": "code",
   "execution_count": 53,
   "id": "928cdb98",
   "metadata": {},
   "outputs": [
    {
     "data": {
      "text/plain": [
       "'SURYA'"
      ]
     },
     "execution_count": 53,
     "metadata": {},
     "output_type": "execute_result"
    }
   ],
   "source": [
    "str3[:5]"
   ]
  },
  {
   "cell_type": "code",
   "execution_count": 54,
   "id": "52aca9d6",
   "metadata": {},
   "outputs": [
    {
     "data": {
      "text/plain": [
       "'WARNKAR'"
      ]
     },
     "execution_count": 54,
     "metadata": {},
     "output_type": "execute_result"
    }
   ],
   "source": [
    "str3[-7:]"
   ]
  },
  {
   "cell_type": "markdown",
   "id": "995d69d6",
   "metadata": {},
   "source": [
    "# Tuples in Python"
   ]
  },
  {
   "cell_type": "code",
   "execution_count": 56,
   "id": "b2e68935",
   "metadata": {},
   "outputs": [],
   "source": [
    "tup1=(\"SCET\",22,\"Bharat\",45.5,\"Surat\",99)"
   ]
  },
  {
   "cell_type": "code",
   "execution_count": 57,
   "id": "3603d010",
   "metadata": {},
   "outputs": [
    {
     "data": {
      "text/plain": [
       "('SCET', 22, 'Bharat', 45.5, 'Surat', 99)"
      ]
     },
     "execution_count": 57,
     "metadata": {},
     "output_type": "execute_result"
    }
   ],
   "source": [
    "tup1"
   ]
  },
  {
   "cell_type": "code",
   "execution_count": 58,
   "id": "dd05e7bc",
   "metadata": {},
   "outputs": [
    {
     "data": {
      "text/plain": [
       "tuple"
      ]
     },
     "execution_count": 58,
     "metadata": {},
     "output_type": "execute_result"
    }
   ],
   "source": [
    "type(tup1)"
   ]
  },
  {
   "cell_type": "code",
   "execution_count": 59,
   "id": "42397087",
   "metadata": {},
   "outputs": [
    {
     "data": {
      "text/plain": [
       "'Bharat'"
      ]
     },
     "execution_count": 59,
     "metadata": {},
     "output_type": "execute_result"
    }
   ],
   "source": [
    "tup1[2]"
   ]
  },
  {
   "cell_type": "code",
   "execution_count": 60,
   "id": "b509166b",
   "metadata": {},
   "outputs": [
    {
     "data": {
      "text/plain": [
       "(22, 'Bharat', 45.5)"
      ]
     },
     "execution_count": 60,
     "metadata": {},
     "output_type": "execute_result"
    }
   ],
   "source": [
    "tup1[1:4]"
   ]
  },
  {
   "cell_type": "code",
   "execution_count": 61,
   "id": "12fa81c9",
   "metadata": {},
   "outputs": [
    {
     "data": {
      "text/plain": [
       "('Bharat', 45.5, 'Surat', 99)"
      ]
     },
     "execution_count": 61,
     "metadata": {},
     "output_type": "execute_result"
    }
   ],
   "source": [
    "tup1[-4:]"
   ]
  },
  {
   "cell_type": "code",
   "execution_count": 62,
   "id": "3eed4fd7",
   "metadata": {},
   "outputs": [
    {
     "data": {
      "text/plain": [
       "'Bharat'"
      ]
     },
     "execution_count": 62,
     "metadata": {},
     "output_type": "execute_result"
    }
   ],
   "source": [
    "tup1[-4]"
   ]
  },
  {
   "cell_type": "code",
   "execution_count": 63,
   "id": "aa6d6d0c",
   "metadata": {},
   "outputs": [],
   "source": [
    "tup2=(\"Electrical\",\"EC\",\"IC\")"
   ]
  },
  {
   "cell_type": "code",
   "execution_count": 64,
   "id": "de01be01",
   "metadata": {},
   "outputs": [],
   "source": [
    "tup3=tup1+tup2"
   ]
  },
  {
   "cell_type": "code",
   "execution_count": 65,
   "id": "b1ca4eff",
   "metadata": {},
   "outputs": [
    {
     "data": {
      "text/plain": [
       "('SCET', 22, 'Bharat', 45.5, 'Surat', 99, 'Electrical', 'EC', 'IC')"
      ]
     },
     "execution_count": 65,
     "metadata": {},
     "output_type": "execute_result"
    }
   ],
   "source": [
    "tup3"
   ]
  },
  {
   "cell_type": "code",
   "execution_count": 67,
   "id": "693c9d74",
   "metadata": {},
   "outputs": [
    {
     "data": {
      "text/plain": [
       "9"
      ]
     },
     "execution_count": 67,
     "metadata": {},
     "output_type": "execute_result"
    }
   ],
   "source": [
    "len(tup3)"
   ]
  },
  {
   "cell_type": "markdown",
   "id": "c972c71c",
   "metadata": {},
   "source": [
    "# List in Python"
   ]
  },
  {
   "cell_type": "code",
   "execution_count": 72,
   "id": "dd7ac015",
   "metadata": {},
   "outputs": [],
   "source": [
    "lst1=[\"SCET\",22,\"Bharat\",45.5,\"Surat\",99]"
   ]
  },
  {
   "cell_type": "code",
   "execution_count": 73,
   "id": "678ec322",
   "metadata": {},
   "outputs": [
    {
     "data": {
      "text/plain": [
       "list"
      ]
     },
     "execution_count": 73,
     "metadata": {},
     "output_type": "execute_result"
    }
   ],
   "source": [
    "type(lst1)"
   ]
  },
  {
   "cell_type": "code",
   "execution_count": 77,
   "id": "16dada59",
   "metadata": {},
   "outputs": [],
   "source": [
    "lst1.remove(\"SCET\")"
   ]
  },
  {
   "cell_type": "code",
   "execution_count": 78,
   "id": "78467cb8",
   "metadata": {},
   "outputs": [
    {
     "data": {
      "text/plain": [
       "[22, 'Bharat', 45.5, 'Surat', 99]"
      ]
     },
     "execution_count": 78,
     "metadata": {},
     "output_type": "execute_result"
    }
   ],
   "source": [
    "lst1"
   ]
  },
  {
   "cell_type": "markdown",
   "id": "6b6647eb",
   "metadata": {},
   "source": [
    "# Dictionary"
   ]
  },
  {
   "cell_type": "code",
   "execution_count": 81,
   "id": "76561b1e",
   "metadata": {},
   "outputs": [],
   "source": [
    "dict1={\"University\" : \"GTU\", \"Course\" : \"Electrical\", \"Subject\" : \"Python\"}"
   ]
  },
  {
   "cell_type": "code",
   "execution_count": 82,
   "id": "33cd5f1e",
   "metadata": {},
   "outputs": [
    {
     "data": {
      "text/plain": [
       "{'University': 'GTU', 'Course': 'Electrical', 'Subject': 'Python'}"
      ]
     },
     "execution_count": 82,
     "metadata": {},
     "output_type": "execute_result"
    }
   ],
   "source": [
    "dict1"
   ]
  },
  {
   "cell_type": "code",
   "execution_count": 83,
   "id": "063a8964",
   "metadata": {},
   "outputs": [
    {
     "data": {
      "text/plain": [
       "dict"
      ]
     },
     "execution_count": 83,
     "metadata": {},
     "output_type": "execute_result"
    }
   ],
   "source": [
    "type(dict1)"
   ]
  },
  {
   "cell_type": "code",
   "execution_count": 84,
   "id": "e8b971fd",
   "metadata": {},
   "outputs": [
    {
     "name": "stdout",
     "output_type": "stream",
     "text": [
      "dict_keys(['University', 'Course', 'Subject'])\n"
     ]
    }
   ],
   "source": [
    "#print only key values\n",
    "print(dict1.keys())"
   ]
  },
  {
   "cell_type": "code",
   "execution_count": 85,
   "id": "357ebe03",
   "metadata": {},
   "outputs": [
    {
     "name": "stdout",
     "output_type": "stream",
     "text": [
      "dict_values(['GTU', 'Electrical', 'Python'])\n"
     ]
    }
   ],
   "source": [
    "#print only values\n",
    "print(dict1.values())"
   ]
  },
  {
   "cell_type": "markdown",
   "id": "4f0823c7",
   "metadata": {},
   "source": [
    "# Libraries"
   ]
  },
  {
   "cell_type": "code",
   "execution_count": 87,
   "id": "d6b9d0d9",
   "metadata": {},
   "outputs": [],
   "source": [
    "from math import pi"
   ]
  },
  {
   "cell_type": "code",
   "execution_count": 88,
   "id": "b86b6f52",
   "metadata": {},
   "outputs": [
    {
     "data": {
      "text/plain": [
       "3.141592653589793"
      ]
     },
     "execution_count": 88,
     "metadata": {},
     "output_type": "execute_result"
    }
   ],
   "source": [
    "pi"
   ]
  },
  {
   "cell_type": "code",
   "execution_count": 89,
   "id": "ce76522a",
   "metadata": {},
   "outputs": [],
   "source": [
    "#Area of Circle\n",
    "r=5\n",
    "area=pi*(r**2)"
   ]
  },
  {
   "cell_type": "code",
   "execution_count": 90,
   "id": "7dab206b",
   "metadata": {},
   "outputs": [
    {
     "name": "stdout",
     "output_type": "stream",
     "text": [
      "78.53981633974483\n"
     ]
    }
   ],
   "source": [
    "print(area)"
   ]
  },
  {
   "cell_type": "code",
   "execution_count": 1,
   "id": "21ff1217",
   "metadata": {},
   "outputs": [
    {
     "name": "stdout",
     "output_type": "stream",
     "text": [
      "0\n",
      "1\n",
      "2\n",
      "3\n",
      "4\n",
      "5\n",
      "6\n",
      "7\n",
      "8\n",
      "9\n",
      "10\n",
      "11\n",
      "12\n",
      "13\n",
      "14\n",
      "15\n",
      "16\n",
      "17\n",
      "18\n",
      "19\n",
      "20\n",
      "21\n",
      "22\n",
      "23\n",
      "24\n",
      "25\n",
      "26\n",
      "27\n",
      "28\n",
      "29\n",
      "30\n",
      "31\n",
      "32\n",
      "33\n",
      "34\n",
      "35\n",
      "36\n",
      "37\n",
      "38\n",
      "39\n",
      "40\n",
      "41\n",
      "42\n",
      "43\n",
      "44\n",
      "45\n",
      "46\n",
      "47\n",
      "48\n",
      "49\n",
      "50\n",
      "51\n",
      "52\n",
      "53\n",
      "54\n",
      "55\n",
      "56\n",
      "57\n",
      "58\n",
      "59\n",
      "60\n",
      "61\n",
      "62\n",
      "63\n",
      "64\n",
      "65\n",
      "66\n",
      "67\n",
      "68\n",
      "69\n",
      "70\n",
      "71\n",
      "72\n",
      "73\n",
      "74\n",
      "75\n",
      "76\n",
      "77\n",
      "78\n",
      "79\n",
      "80\n",
      "81\n",
      "82\n",
      "83\n",
      "84\n",
      "85\n",
      "86\n",
      "87\n",
      "88\n",
      "89\n",
      "90\n",
      "91\n",
      "92\n",
      "93\n",
      "94\n",
      "95\n",
      "96\n",
      "97\n",
      "98\n",
      "99\n"
     ]
    }
   ],
   "source": [
    "for i in range (100):\n",
    "    print(i)"
   ]
  },
  {
   "cell_type": "markdown",
   "id": "db78885f",
   "metadata": {},
   "source": [
    "# Python Conditional Statement"
   ]
  },
  {
   "cell_type": "code",
   "execution_count": 2,
   "id": "9136b500",
   "metadata": {},
   "outputs": [
    {
     "name": "stdout",
     "output_type": "stream",
     "text": [
      "5 is a positive number\n"
     ]
    }
   ],
   "source": [
    "#if statement\n",
    "\n",
    "num=5\n",
    "if num>0:\n",
    "    print(num, \"is a positive number\")"
   ]
  },
  {
   "cell_type": "code",
   "execution_count": 4,
   "id": "bf561c9b",
   "metadata": {},
   "outputs": [
    {
     "name": "stdout",
     "output_type": "stream",
     "text": [
      "-5 is a negative number\n"
     ]
    }
   ],
   "source": [
    "#if statement\n",
    "\n",
    "num=-5\n",
    "if num<0:\n",
    "    print(num, \"is a negative number\")"
   ]
  },
  {
   "cell_type": "code",
   "execution_count": 11,
   "id": "a95b022a",
   "metadata": {},
   "outputs": [
    {
     "name": "stdout",
     "output_type": "stream",
     "text": [
      "Zero\n"
     ]
    }
   ],
   "source": [
    "#nested if\n",
    "\n",
    "num=0\n",
    "if num>=0:\n",
    "    if num==0:\n",
    "        print(\"Zero\")\n",
    "    else:\n",
    "        print(\"Positive Number\")\n",
    "else:\n",
    "    print(\"Negative Number\")            "
   ]
  },
  {
   "cell_type": "code",
   "execution_count": null,
   "id": "e65c6f01",
   "metadata": {},
   "outputs": [],
   "source": []
  }
 ],
 "metadata": {
  "kernelspec": {
   "display_name": "Python 3 (ipykernel)",
   "language": "python",
   "name": "python3"
  },
  "language_info": {
   "codemirror_mode": {
    "name": "ipython",
    "version": 3
   },
   "file_extension": ".py",
   "mimetype": "text/x-python",
   "name": "python",
   "nbconvert_exporter": "python",
   "pygments_lexer": "ipython3",
   "version": "3.9.12"
  }
 },
 "nbformat": 4,
 "nbformat_minor": 5
}
